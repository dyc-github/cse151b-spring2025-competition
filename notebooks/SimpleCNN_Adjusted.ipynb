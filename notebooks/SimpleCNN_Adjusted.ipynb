{
  "cells": [
    {
      "cell_type": "markdown",
      "metadata": {
        "id": "TcJZ2wVaymlB"
      },
      "source": [
        "# 🌎 Welcome to the CSE151B Spring 2025 Climate Emulation Competition!\n",
        "\n",
        "Thank you for participating in this exciting challenge focused on building machine learning models to emulate complex climate systems.  \n",
        "This notebook is provided as a **starter template** to help you:\n",
        "\n",
        "- Understand how to load and preprocess the dataset  \n",
        "- Construct a baseline model  \n",
        "- Train and evaluate predictions using a PyTorch Lightning pipeline  \n",
        "- Format your predictions for submission to the leaderboard  \n",
        "\n",
        "You're encouraged to:\n",
        "- Build on this structure or replace it entirely\n",
        "- Try more advanced models and training strategies\n",
        "- Incorporate your own ideas to push the boundaries of what's possible\n",
        "\n",
        "If you're interested in developing within a repository structure and/or use helpful tools like configuration management (based on Hydra) and logging (with Weights & Biases), we recommend checking out the following Github repo. Such a structure can be useful when running multiple experiments and trying various research ideas.\n",
        "\n",
        "👉 [https://github.com/salvaRC/cse151b-spring2025-competition](https://github.com/salvaRC/cse151b-spring2025-competition)\n",
        "\n",
        "Good luck, have fun, and we hope you learn a lot through this process!\n"
      ]
    },
    {
      "cell_type": "code",
      "execution_count": null,
      "metadata": {
        "colab": {
          "base_uri": "https://localhost:8080/"
        },
        "id": "gJCZnUJB_v4A",
        "outputId": "786b3772-3518-4ba3-e9f7-4b746f53095c"
      },
      "outputs": [
        {
          "output_type": "stream",
          "name": "stdout",
          "text": [
            "Mounted at /content/drive\n"
          ]
        }
      ],
      "source": [
        "from google.colab import drive\n",
        "drive.mount('/content/drive')"
      ]
    },
    {
      "cell_type": "markdown",
      "metadata": {
        "id": "7v2BgImJymlE"
      },
      "source": [
        "### 📦 Install Required Libraries\n",
        "We install the necessary Python packages for data loading, deep learning, and visualization.\n"
      ]
    },
    {
      "cell_type": "code",
      "execution_count": null,
      "metadata": {
        "id": "tyPLSFEf9pu4"
      },
      "outputs": [],
      "source": [
        "!unzip -q /content/drive/MyDrive/colab_data/cse151b-spring2025-competition.zip"
      ]
    },
    {
      "cell_type": "code",
      "execution_count": null,
      "metadata": {
        "id": "3dEqpUIgBOUv"
      },
      "outputs": [],
      "source": [
        "!pip install xarray zarr dask lightning matplotlib wandb cftime einops --quiet"
      ]
    },
    {
      "cell_type": "code",
      "execution_count": null,
      "metadata": {
        "id": "6yz5xL80ymlE"
      },
      "outputs": [],
      "source": [
        "# !pip install xarray zarr dask lightning matplotlib wandb cftime einops --quiet\n",
        "\n",
        "import os\n",
        "from datetime import datetime\n",
        "import numpy as np\n",
        "import xarray as xr\n",
        "import dask.array as da\n",
        "import torch\n",
        "import torch.nn as nn\n",
        "import torch.optim as optim\n",
        "import matplotlib.pyplot as plt\n",
        "from torch.utils.data import Dataset, DataLoader\n",
        "import lightning.pytorch as pl\n"
      ]
    },
    {
      "cell_type": "markdown",
      "metadata": {
        "id": "cuJWvtmYymlF"
      },
      "source": [
        "### ⚙️ Configuration Setup  \n",
        "Define all model, data, and training hyperparameters in one place for easy control and reproducibility.\n",
        "\n",
        "### 📊 Data Configuration\n",
        "\n",
        "We define the dataset settings used for training and evaluation. This includes:\n",
        "\n",
        "- **`path`**: Path to the `.zarr` dataset containing monthly climate variables from CMIP6 simulations.\n",
        "- **`input_vars`**: Climate forcing variables (e.g., CO₂, CH₄) used as model inputs.\n",
        "- **`output_vars`**: Target variables to predict — surface air temperature (`tas`) and precipitation (`pr`).\n",
        "- **`target_member_id`**: Ensemble member to use from the simulations (each SSP has 3) for target variables.\n",
        "- **`train_ssps`**: SSP scenarios used for training (low to high emissions).\n",
        "- **`test_ssp`**: Scenario held out for evaluation (Must be set to SSP245).\n",
        "- **`test_months`**: Number of months to include in the test split (Must be set to 120).\n",
        "- **`batch_size`** and **`num_workers`**: Data loading parameters for PyTorch training.\n",
        "\n",
        "These settings reflect how the challenge is structured: models must learn from some emission scenarios and generalize to unseen ones.\n",
        "\n",
        "> ⚠️ **Important:** Do **not modify** the following test settings:\n",
        ">\n",
        "> - `test_ssp` must remain **`ssp245`**, which is the held-out evaluation scenario.\n",
        "> - `test_months` must be **`120`**, corresponding to the last 10 years (monthly resolution) of the scenario.\n",
        "\n"
      ]
    },
    {
      "cell_type": "code",
      "execution_count": null,
      "metadata": {
        "id": "2UY-iz7vymlF",
        "colab": {
          "base_uri": "https://localhost:8080/"
        },
        "outputId": "52cabc74-34cd-400f-9f33-4f7a7e323834"
      },
      "outputs": [
        {
          "output_type": "stream",
          "name": "stderr",
          "text": [
            "INFO: Seed set to 42\n",
            "INFO:lightning.fabric.utilities.seed:Seed set to 42\n"
          ]
        },
        {
          "output_type": "execute_result",
          "data": {
            "text/plain": [
              "42"
            ]
          },
          "metadata": {},
          "execution_count": 5
        }
      ],
      "source": [
        "#NOTE Change the data directory according to where you have your zarr files stored\n",
        "config = {\n",
        "    \"data\": {\n",
        "        \"path\": \"/content/processed_data_cse151b_v2_corrupted_ssp245/processed_data_cse151b_v2_corrupted_ssp245.zarr\",\n",
        "        \"input_vars\": [\"CO2\", \"SO2\", \"CH4\", \"BC\", \"rsdt\"],\n",
        "        \"output_vars\": [\"tas\", \"pr\"],\n",
        "        \"target_member_id\": 0,\n",
        "        \"train_ssps\": [\"ssp126\", \"ssp370\", \"ssp585\"],\n",
        "        \"test_ssp\": \"ssp245\",\n",
        "        \"test_months\": 360,\n",
        "        \"batch_size\": 64,\n",
        "        \"num_workers\": 4,\n",
        "    },\n",
        "    \"model\": {\n",
        "        \"type\": \"simple_cnn\",\n",
        "        \"kernel_size\": 3,\n",
        "        \"init_dim\": 64,\n",
        "        \"depth\": 4,\n",
        "        \"dropout_rate\": 0.1,\n",
        "    },\n",
        "    \"training\": {\n",
        "        \"lr\": 1e-3,\n",
        "    },\n",
        "    \"trainer\": {\n",
        "        \"max_epochs\": 10,\n",
        "        \"accelerator\": \"auto\",\n",
        "        \"devices\": \"auto\",\n",
        "        \"precision\": 32,\n",
        "        \"deterministic\": True,\n",
        "        \"num_sanity_val_steps\": 0,\n",
        "    },\n",
        "    \"seed\": 42,\n",
        "}\n",
        "pl.seed_everything(config[\"seed\"])  # Set seed for reproducibility"
      ]
    },
    {
      "cell_type": "markdown",
      "metadata": {
        "id": "iLqgM8ZzymlF"
      },
      "source": [
        "### 🔧 Spatial Weighting Utility Function\n",
        "\n",
        "This cell sets up utility functions for reproducibility and spatial weighting:\n",
        "\n",
        "- **`get_lat_weights(latitude_values)`**: Computes cosine-based area weights for each latitude, accounting for the Earth's curvature. This is critical for evaluating global climate metrics fairly — grid cells near the equator represent larger surface areas than those near the poles.\n"
      ]
    },
    {
      "cell_type": "code",
      "execution_count": null,
      "metadata": {
        "id": "U7T3KCs0ymlF"
      },
      "outputs": [],
      "source": [
        "def get_lat_weights(latitude_values):\n",
        "    lat_rad = np.deg2rad(latitude_values)\n",
        "    weights = np.cos(lat_rad)\n",
        "    return weights / np.mean(weights)"
      ]
    },
    {
      "cell_type": "markdown",
      "metadata": {
        "id": "PLJE4FIOymlG"
      },
      "source": [
        "### 🧠 SimpleCNN: A Residual Convolutional Baseline\n",
        "\n",
        "This is a lightweight baseline model designed to capture spatial patterns in global climate data using convolutional layers.\n",
        "\n",
        "- The architecture starts with a **convolution + batch norm + ReLU** block to process the input channels.\n",
        "- It then applies a series of **residual blocks** to extract increasingly abstract spatial features. These help preserve gradient flow during training.\n",
        "- Finally, a few convolutional layers reduce the feature maps down to the desired number of output channels (`tas` and `pr`).\n",
        "\n",
        "This model only serves as a **simple baseline for climate emulation**.\n",
        "\n",
        "We encourage you to build and experiment with your own models and ideas.\n"
      ]
    },
    {
      "cell_type": "code",
      "execution_count": null,
      "metadata": {
        "id": "HL0ohIVhymlG"
      },
      "outputs": [],
      "source": [
        "class ResidualBlock(nn.Module):\n",
        "    def __init__(self, in_channels, out_channels, kernel_size=3, stride=1):\n",
        "        super().__init__()\n",
        "        self.conv1 = nn.Conv2d(in_channels, out_channels, kernel_size, stride=stride, padding=kernel_size // 2)\n",
        "        self.bn1 = nn.BatchNorm2d(out_channels)\n",
        "        self.relu = nn.ReLU(inplace=True)\n",
        "        self.conv2 = nn.Conv2d(out_channels, out_channels, kernel_size, padding=kernel_size // 2)\n",
        "        self.bn2 = nn.BatchNorm2d(out_channels)\n",
        "        self.skip = nn.Sequential()\n",
        "        if stride != 1 or in_channels != out_channels:\n",
        "            self.skip = nn.Sequential(\n",
        "                nn.Conv2d(in_channels, out_channels, kernel_size=1, stride=stride), nn.BatchNorm2d(out_channels)\n",
        "            )\n",
        "\n",
        "    def forward(self, x):\n",
        "        identity = x\n",
        "        out = self.relu(self.bn1(self.conv1(x)))\n",
        "        out = self.bn2(self.conv2(out))\n",
        "        out += self.skip(identity)\n",
        "        return self.relu(out)\n",
        "\n",
        "class SimpleCNN(nn.Module):\n",
        "    def __init__(self, n_input_channels, n_output_channels, kernel_size=3, init_dim=64, depth=4, dropout_rate=0.2):\n",
        "        super().__init__()\n",
        "        self.initial = nn.Sequential(\n",
        "            nn.Conv2d(n_input_channels, init_dim, kernel_size=kernel_size, padding=kernel_size // 2),\n",
        "            nn.BatchNorm2d(init_dim),\n",
        "            nn.ReLU(inplace=True),\n",
        "        )\n",
        "        self.res_blocks = nn.ModuleList()\n",
        "        current_dim = init_dim\n",
        "        for i in range(depth):\n",
        "            out_dim = current_dim * 2 if i < depth - 1 else current_dim\n",
        "            self.res_blocks.append(ResidualBlock(current_dim, out_dim))\n",
        "            if i < depth - 1:\n",
        "                current_dim *= 2\n",
        "        self.dropout = nn.Dropout2d(dropout_rate)\n",
        "        self.final = nn.Sequential(\n",
        "            nn.Conv2d(current_dim, current_dim // 2, kernel_size=kernel_size, padding=kernel_size // 2),\n",
        "            nn.BatchNorm2d(current_dim // 2),\n",
        "            nn.ReLU(inplace=True),\n",
        "            nn.Conv2d(current_dim // 2, n_output_channels, kernel_size=1),\n",
        "        )\n",
        "\n",
        "    def forward(self, x):\n",
        "        x = self.initial(x)\n",
        "        for res_block in self.res_blocks:\n",
        "            x = res_block(x)\n",
        "        return self.final(self.dropout(x))\n"
      ]
    },
    {
      "cell_type": "markdown",
      "metadata": {
        "id": "Vn0BdP5hymlG"
      },
      "source": [
        "### 📐 Normalizer: Z-Score Scaling for Climate Inputs & Outputs\n",
        "\n",
        "This class handles **Z-score normalization**, a crucial preprocessing step for stable and efficient neural network training:\n",
        "\n",
        "- **`set_input_statistics(mean, std)` / `set_output_statistics(...)`**: Store the mean and standard deviation computed from the training data for later use.\n",
        "- **`normalize(data, data_type)`**: Standardizes the data using `(x - mean) / std`. This is applied separately to inputs and outputs.\n",
        "- **`inverse_transform_output(data)`**: Converts model predictions back to the original physical units (e.g., Kelvin for temperature, mm/day for precipitation).\n",
        "\n",
        "Normalizing the data ensures the model sees inputs with similar dynamic ranges and avoids biases caused by different variable scales.\n"
      ]
    },
    {
      "cell_type": "code",
      "execution_count": null,
      "metadata": {
        "id": "zMNSQZGoymlG"
      },
      "outputs": [],
      "source": [
        "class Normalizer:\n",
        "    def __init__(self):\n",
        "        self.mean_in, self.std_in = None, None\n",
        "        self.mean_out, self.std_out = None, None\n",
        "\n",
        "    def set_input_statistics(self, mean, std):\n",
        "        self.mean_in = mean\n",
        "        self.std_in = std\n",
        "\n",
        "    def set_output_statistics(self, mean, std):\n",
        "        self.mean_out = mean\n",
        "        self.std_out = std\n",
        "\n",
        "    def normalize(self, data, data_type):\n",
        "        if data_type == \"input\":\n",
        "            return (data - self.mean_in) / self.std_in\n",
        "        elif data_type == \"output\":\n",
        "            return (data - self.mean_out) / self.std_out\n",
        "\n",
        "    def inverse_transform_output(self, data):\n",
        "        return data * self.std_out + self.mean_out\n"
      ]
    },
    {
      "cell_type": "markdown",
      "metadata": {
        "id": "37uFaE1GymlG"
      },
      "source": [
        "### 🌍 Data Module: Loading, Normalization, and Splitting\n",
        "\n",
        "This section handles the entire data pipeline, from loading the `.zarr` dataset to preparing PyTorch-ready DataLoaders.\n",
        "\n",
        "#### `ClimateDataset`\n",
        "- A simple PyTorch `Dataset` wrapper that preloads the entire (normalized) dataset into memory using Dask.\n",
        "- Converts the data to PyTorch tensors and handles any `NaN` checks up front.\n",
        "\n",
        "#### `ClimateDataModule`\n",
        "A PyTorch Lightning `DataModule` that handles:\n",
        "- ✅ **Loading data** from different SSP scenarios and ensemble members\n",
        "- ✅ **Broadcasting non-spatial inputs** (like CO₂) to match spatial grid size\n",
        "- ✅ **Normalization** using mean/std computed from training data only\n",
        "- ✅ **Splitting** into training, validation, and test sets:\n",
        "  - Training: All months from selected SSPs (except last 10 years of SSP370)\n",
        "  - Validation: Last 10 years (120 months) of SSP370\n",
        "  - Test: Last 10 years of SSP245 (unseen scenario)\n",
        "- ✅ **Batching** and parallelized data loading via PyTorch `DataLoader`s\n",
        "- ✅ **Latitude-based area weighting** for fair climate metric evaluation\n",
        "- Shape of the inputs are Batch_Size X 5 (num_input_variables) X 48 X 72\n",
        "- Shape of ouputputs are Batch_Size X 2 (num_output_variables) X 48 X 72\n",
        "\n",
        "> ℹ️ **Note:** You likely won’t need to modify this class but feel free to make modifications if you want to inlcude different ensemble mebers to feed more data to your models\n"
      ]
    },
    {
      "cell_type": "code",
      "execution_count": null,
      "metadata": {
        "id": "D-X--203ymlH"
      },
      "outputs": [],
      "source": [
        "class ClimateDataset(Dataset):\n",
        "    def __init__(self, inputs_dask, outputs_dask, output_is_normalized=True):\n",
        "        self.size = inputs_dask.shape[0]\n",
        "        print(f\"Creating dataset with {self.size} samples...\")\n",
        "\n",
        "        inputs_np = inputs_dask.compute()\n",
        "        outputs_np = outputs_dask.compute()\n",
        "\n",
        "        self.inputs = torch.from_numpy(inputs_np).float()\n",
        "        self.outputs = torch.from_numpy(outputs_np).float()\n",
        "\n",
        "        if torch.isnan(self.inputs).any() or torch.isnan(self.outputs).any():\n",
        "            raise ValueError(\"NaNs found in dataset\")\n",
        "\n",
        "    def __len__(self):\n",
        "        return self.size\n",
        "\n",
        "    def __getitem__(self, idx):\n",
        "        return self.inputs[idx], self.outputs[idx]\n",
        "\n",
        "\n",
        "class ClimateDataModule(pl.LightningDataModule):\n",
        "    def __init__(\n",
        "        self,\n",
        "        path,\n",
        "        input_vars,\n",
        "        output_vars,\n",
        "        train_ssps,\n",
        "        test_ssp,\n",
        "        target_member_id,\n",
        "        val_split=0.1,\n",
        "        test_months=120,\n",
        "        batch_size=32,\n",
        "        num_workers=0,\n",
        "        seed=42,\n",
        "    ):\n",
        "        super().__init__()\n",
        "        self.path = path\n",
        "        self.input_vars = input_vars\n",
        "        self.output_vars = output_vars\n",
        "        self.train_ssps = train_ssps\n",
        "        self.test_ssp = test_ssp\n",
        "        self.target_member_id = target_member_id\n",
        "        self.val_split = val_split\n",
        "        self.test_months = test_months\n",
        "        self.batch_size = batch_size\n",
        "        self.num_workers = num_workers\n",
        "        self.seed = seed\n",
        "        self.normalizer = Normalizer()\n",
        "\n",
        "    def prepare_data(self):\n",
        "        assert os.path.exists(self.path), f\"Data path not found: {self.path}\"\n",
        "\n",
        "    def setup(self, stage=None):\n",
        "        ds = xr.open_zarr(self.path, consolidated=False, chunks={\"time\": 24})\n",
        "        spatial_template = ds[\"rsdt\"].isel(time=0, ssp=0, drop=True)\n",
        "\n",
        "        def load_ssp(ssp):\n",
        "            input_dask, output_dask = [], []\n",
        "            for var in self.input_vars:\n",
        "                da_var = ds[var].sel(ssp=ssp)\n",
        "                if \"latitude\" in da_var.dims:\n",
        "                    da_var = da_var.rename({\"latitude\": \"y\", \"longitude\": \"x\"})\n",
        "                if \"member_id\" in da_var.dims:\n",
        "                    da_var = da_var.sel(member_id=self.target_member_id)\n",
        "                if set(da_var.dims) == {\"time\"}:\n",
        "                    da_var = da_var.broadcast_like(spatial_template).transpose(\"time\", \"y\", \"x\")\n",
        "                input_dask.append(da_var.data)\n",
        "\n",
        "            for var in self.output_vars:\n",
        "                da_out = ds[var].sel(ssp=ssp, member_id=self.target_member_id)\n",
        "                if \"latitude\" in da_out.dims:\n",
        "                    da_out = da_out.rename({\"latitude\": \"y\", \"longitude\": \"x\"})\n",
        "                output_dask.append(da_out.data)\n",
        "\n",
        "            return da.stack(input_dask, axis=1), da.stack(output_dask, axis=1)\n",
        "\n",
        "        train_input, train_output, val_input, val_output = [], [], None, None\n",
        "\n",
        "        for ssp in self.train_ssps:\n",
        "            x, y = load_ssp(ssp)\n",
        "            if ssp == \"ssp370\":\n",
        "                val_input = x[-self.test_months:]\n",
        "                val_output = y[-self.test_months:]\n",
        "                train_input.append(x[:-self.test_months])\n",
        "                train_output.append(y[:-self.test_months])\n",
        "            else:\n",
        "                train_input.append(x)\n",
        "                train_output.append(y)\n",
        "\n",
        "        train_input = da.concatenate(train_input, axis=0)\n",
        "        train_output = da.concatenate(train_output, axis=0)\n",
        "\n",
        "        self.normalizer.set_input_statistics(\n",
        "            mean=da.nanmean(train_input, axis=(0, 2, 3), keepdims=True).compute(),\n",
        "            std=da.nanstd(train_input, axis=(0, 2, 3), keepdims=True).compute(),\n",
        "        )\n",
        "        self.normalizer.set_output_statistics(\n",
        "            mean=da.nanmean(train_output, axis=(0, 2, 3), keepdims=True).compute(),\n",
        "            std=da.nanstd(train_output, axis=(0, 2, 3), keepdims=True).compute(),\n",
        "        )\n",
        "\n",
        "        train_input_norm = self.normalizer.normalize(train_input, \"input\")\n",
        "        train_output_norm = self.normalizer.normalize(train_output, \"output\")\n",
        "        val_input_norm = self.normalizer.normalize(val_input, \"input\")\n",
        "        val_output_norm = self.normalizer.normalize(val_output, \"output\")\n",
        "\n",
        "        test_input, test_output = load_ssp(self.test_ssp)\n",
        "        test_input = test_input[-self.test_months:]\n",
        "        test_output = test_output[-self.test_months:]\n",
        "        test_input_norm = self.normalizer.normalize(test_input, \"input\")\n",
        "\n",
        "        self.train_dataset = ClimateDataset(train_input_norm, train_output_norm)\n",
        "        self.val_dataset = ClimateDataset(val_input_norm, val_output_norm)\n",
        "        self.test_dataset = ClimateDataset(test_input_norm, test_output, output_is_normalized=False)\n",
        "\n",
        "        self.lat = spatial_template.y.values\n",
        "        self.lon = spatial_template.x.values\n",
        "        self.area_weights = xr.DataArray(get_lat_weights(self.lat), dims=[\"y\"], coords={\"y\": self.lat})\n",
        "\n",
        "    def train_dataloader(self):\n",
        "        return DataLoader(self.train_dataset, batch_size=self.batch_size, shuffle=True,\n",
        "                          num_workers=self.num_workers, pin_memory=True)\n",
        "\n",
        "    def val_dataloader(self):\n",
        "        return DataLoader(self.val_dataset, batch_size=self.batch_size, shuffle=False,\n",
        "                          num_workers=self.num_workers, pin_memory=True)\n",
        "\n",
        "    def test_dataloader(self):\n",
        "        return DataLoader(self.test_dataset, batch_size=self.batch_size, shuffle=False,\n",
        "                          num_workers=self.num_workers, pin_memory=True)\n",
        "\n",
        "    def get_lat_weights(self):\n",
        "        return self.area_weights\n",
        "\n",
        "    def get_coords(self):\n",
        "        return self.lat, self.lon"
      ]
    },
    {
      "cell_type": "markdown",
      "metadata": {
        "id": "X2p7kA0MymlH"
      },
      "source": [
        "### ⚡ ClimateEmulationModule: Lightning Wrapper for Climate Model Emulation\n",
        "\n",
        "This is the core model wrapper built with **PyTorch Lightning**, which organizes the training, validation, and testing logic for the climate emulation task. Lightning abstracts away much of the boilerplate code in PyTorch-based deep learning workflows, making it easier to scale models.\n",
        "\n",
        "#### ✅ Key Features\n",
        "\n",
        "- **`training_step` / `validation_step` / `test_step`**: Standard Lightning hooks for computing loss and predictions at each stage. The loss used is **Mean Squared Error (MSE)**.\n",
        "\n",
        "- **Normalization-aware outputs**:\n",
        "  - During validation and testing, predictions and targets are denormalized before evaluation using stored mean/std statistics.\n",
        "  - This ensures evaluation is done in real-world units (Kelvin and mm/day).\n",
        "\n",
        "- **Metric Evaluation** via `_evaluate()`:\n",
        "  For each variable (`tas`, `pr`), it calculates:\n",
        "  - **Monthly Area-Weighted RMSE**\n",
        "  - **Time-Mean RMSE** (RMSE on 10-year average's)\n",
        "  - **Time-Stddev MAE** (MAE on 10-year standard deviation; a measure of temporal variability)\n",
        "    \n",
        "  These metrics reflect the competition's evaluation criteria and are logged and printed.\n",
        "\n",
        "- **Kaggle Submission Writer**:\n",
        "  After testing, predictions are saved to a `.csv` file in the required Kaggle format via `_save_submission()`.\n",
        "\n",
        "- **Saving Predictions for Visualization**:\n",
        "  - Validation predictions are saved tao `val_preds.npy` and `val_trues.npy`\n",
        "  - These can be loaded later for visual inspection of the model's performance.\n",
        "\n",
        " 🔧 **Feel free to modify any part of this module** (loss functions, evaluation, training logic) to better suit your model or training pipeline / Use pure PyTorch etc.\n",
        "\n",
        "⚠️ The **final submission `.csv` file must strictly follow the format and naming convention used in `_save_submission()`**, as these `ID`s are used to match predictions to the hidden test set during evaluation.\n",
        "\n"
      ]
    },
    {
      "cell_type": "code",
      "execution_count": null,
      "metadata": {
        "id": "DTOr21_wymlH"
      },
      "outputs": [],
      "source": [
        "import pandas as pd\n",
        "\n",
        "class ClimateEmulationModule(pl.LightningModule):\n",
        "    def __init__(self, model, learning_rate=1e-4):\n",
        "        super().__init__()\n",
        "        self.model = model\n",
        "        self.save_hyperparameters(ignore=['model']) # Save all hyperparameters except the model to self.hparams.<param_name>\n",
        "        self.criterion = nn.MSELoss()\n",
        "        self.normalizer = None\n",
        "        self.val_preds, self.val_targets = [], []\n",
        "        self.test_preds, self.test_targets = [], []\n",
        "\n",
        "    def forward(self, x):\n",
        "        return self.model(x)\n",
        "\n",
        "    def on_fit_start(self):\n",
        "        self.normalizer = self.trainer.datamodule.normalizer  # Get the normalizer from the datamodule (see above)\n",
        "\n",
        "    def training_step(self, batch, batch_idx):\n",
        "        x, y = batch # Unpack inputs and targets (this is the output of the _getitem_ method in the Dataset above)\n",
        "        y_hat = self(x)   # Forward pass\n",
        "        loss = self.criterion(y_hat, y)  # Calculate loss\n",
        "        self.log(\"train/loss\", loss)  # Log loss for tracking\n",
        "        return loss\n",
        "\n",
        "    def validation_step(self, batch, batch_idx):\n",
        "        x, y = batch\n",
        "        y_hat = self(x)\n",
        "        loss = self.criterion(y_hat, y)\n",
        "        self.log(\"val/loss\", loss)\n",
        "\n",
        "        y_hat_np = self.normalizer.inverse_transform_output(y_hat.detach().cpu().numpy())\n",
        "        y_np = self.normalizer.inverse_transform_output(y.detach().cpu().numpy())\n",
        "        self.val_preds.append(y_hat_np)\n",
        "        self.val_targets.append(y_np)\n",
        "\n",
        "        return loss\n",
        "\n",
        "    def on_validation_epoch_end(self):\n",
        "        # Concatenate all predictions and ground truths from each val step/batch into one array\n",
        "        preds = np.concatenate(self.val_preds, axis=0)\n",
        "        trues = np.concatenate(self.val_targets, axis=0)\n",
        "        self._evaluate(preds, trues, phase=\"val\")\n",
        "        np.save(\"val_preds.npy\", preds)\n",
        "        np.save(\"val_trues.npy\", trues)\n",
        "        self.val_preds.clear()\n",
        "        self.val_targets.clear()\n",
        "\n",
        "    def test_step(self, batch, batch_idx):\n",
        "        x, y = batch\n",
        "        y_hat = self(x)\n",
        "        y_hat_np = self.normalizer.inverse_transform_output(y_hat.detach().cpu().numpy())\n",
        "        y_np = y.detach().cpu().numpy()\n",
        "        self.test_preds.append(y_hat_np)\n",
        "        self.test_targets.append(y_np)\n",
        "\n",
        "    def on_test_epoch_end(self):\n",
        "        # Concatenate all predictions and ground truths from each test step/batch into one array\n",
        "        preds = np.concatenate(self.test_preds, axis=0)\n",
        "        trues = np.concatenate(self.test_targets, axis=0)\n",
        "        self._evaluate(preds, trues, phase=\"test\")\n",
        "        self._save_submission(preds)\n",
        "        self.test_preds.clear()\n",
        "        self.test_targets.clear()\n",
        "\n",
        "    def configure_optimizers(self):\n",
        "        return optim.Adam(self.parameters(), lr=self.hparams.learning_rate)\n",
        "\n",
        "    def _evaluate(self, preds, trues, phase=\"val\"):\n",
        "        datamodule = self.trainer.datamodule\n",
        "        area_weights = datamodule.get_lat_weights()\n",
        "        lat, lon = datamodule.get_coords()\n",
        "        time = np.arange(preds.shape[0])\n",
        "        output_vars = datamodule.output_vars\n",
        "\n",
        "        for i, var in enumerate(output_vars):\n",
        "            p = preds[:, i]\n",
        "            t = trues[:, i]\n",
        "            p_xr = xr.DataArray(p, dims=[\"time\", \"y\", \"x\"], coords={\"time\": time, \"y\": lat, \"x\": lon})\n",
        "            t_xr = xr.DataArray(t, dims=[\"time\", \"y\", \"x\"], coords={\"time\": time, \"y\": lat, \"x\": lon})\n",
        "\n",
        "            # RMSE\n",
        "            rmse = np.sqrt(((p_xr - t_xr) ** 2).weighted(area_weights).mean((\"time\", \"y\", \"x\")).item())\n",
        "            # RMSE of time-mean\n",
        "            mean_rmse = np.sqrt(((p_xr.mean(\"time\") - t_xr.mean(\"time\")) ** 2).weighted(area_weights).mean((\"y\", \"x\")).item())\n",
        "            # MAE of time-stddev\n",
        "            std_mae = np.abs(p_xr.std(\"time\") - t_xr.std(\"time\")).weighted(area_weights).mean((\"y\", \"x\")).item()\n",
        "\n",
        "            print(f\"[{phase.upper()}] {var}: RMSE={rmse:.4f}, Time-Mean RMSE={mean_rmse:.4f}, Time-Stddev MAE={std_mae:.4f}\")\n",
        "            self.log_dict({\n",
        "                f\"{phase}/{var}/rmse\": rmse,\n",
        "                f\"{phase}/{var}/time_mean_rmse\": mean_rmse,\n",
        "                f\"{phase}/{var}/time_std_mae\": std_mae,\n",
        "            })\n",
        "\n",
        "    def _save_submission(self, predictions):\n",
        "        datamodule = self.trainer.datamodule\n",
        "        lat, lon = datamodule.get_coords()\n",
        "        output_vars = datamodule.output_vars\n",
        "        time = np.arange(predictions.shape[0])\n",
        "\n",
        "        rows = []\n",
        "        for t_idx, t in enumerate(time):\n",
        "            for var_idx, var in enumerate(output_vars):\n",
        "                for y_idx, y in enumerate(lat):\n",
        "                    for x_idx, x in enumerate(lon):\n",
        "                        row_id = f\"t{t_idx:03d}_{var}_{y:.2f}_{x:.2f}\"\n",
        "                        pred = predictions[t_idx, var_idx, y_idx, x_idx]\n",
        "                        rows.append({\"ID\": row_id, \"Prediction\": pred})\n",
        "\n",
        "        df = pd.DataFrame(rows)\n",
        "        os.makedirs(\"submissions\", exist_ok=True)\n",
        "        filepath = f\"submissions/kaggle_submission_{datetime.now().strftime('%Y%m%d_%H%M%S')}.csv\"\n",
        "        df.to_csv(filepath, index=False)\n",
        "        print(f\"✅ Submission saved to: {filepath}\")"
      ]
    },
    {
      "cell_type": "markdown",
      "source": [
        "### Tune learning rate and batch size (FAILURE)\n",
        "The performance after using the lighting tuner to adjust the weight is worse that the original parameters provided"
      ],
      "metadata": {
        "id": "HFzdV5oaSdwK"
      }
    },
    {
      "cell_type": "code",
      "source": [
        "# from lightning.pytorch.tuner import Tuner"
      ],
      "metadata": {
        "id": "jJvMtgxoS-82"
      },
      "execution_count": null,
      "outputs": []
    },
    {
      "cell_type": "code",
      "source": [
        "# datamodule = ClimateDataModule(**config[\"data\"])\n",
        "# model = SimpleCNN(\n",
        "#     n_input_channels=len(config[\"data\"][\"input_vars\"]),\n",
        "#     n_output_channels=len(config[\"data\"][\"output_vars\"]),\n",
        "#     **{k: v for k, v in config[\"model\"].items() if k != \"type\"}\n",
        "# )\n",
        "# lightning_module = ClimateEmulationModule(model, learning_rate=config[\"training\"][\"lr\"])\n",
        "\n",
        "# trainer = pl.Trainer(**config[\"trainer\"])"
      ],
      "metadata": {
        "id": "9RfonDJUSdU8"
      },
      "execution_count": null,
      "outputs": []
    },
    {
      "cell_type": "code",
      "source": [
        "# lightning_module.normalizer = datamodule.normalizer\n",
        "\n",
        "# # tune the learning rate and batch size\n",
        "# tuner = Tuner(trainer)\n",
        "\n",
        "# # tuner.lr_find(lightning_module, mode=\"exponential\", datamodule=datamodule) # Best learning rate to start is supposedly 3.9810717055349735e-05\n",
        "# # tuner.scale_batch_size(lightning_module, mode=\"power\", datamodule=datamodule) batch size 64 is the biggest without getting an OOM"
      ],
      "metadata": {
        "id": "rN2t37rMawJK"
      },
      "execution_count": null,
      "outputs": []
    },
    {
      "cell_type": "code",
      "source": [
        "# trainer.fit(lightning_module, datamodule=datamodule)   # Training"
      ],
      "metadata": {
        "id": "NyP005xKbE9c"
      },
      "execution_count": null,
      "outputs": []
    },
    {
      "cell_type": "markdown",
      "source": [
        "### Increase Epochs\n",
        "The model seemingly has more room to improve so I'm wondering if simply giving it more epochs to train for will result in better performance on the validation set?"
      ],
      "metadata": {
        "id": "_Rom7uL3ftkl"
      }
    },
    {
      "cell_type": "code",
      "source": [
        "# config['trainer']['max_epochs'] = 10\n",
        "# config['trainer']['max_epochs'] = 20\n",
        "# config['trainer']['max_epochs'] = 30\n",
        "config['trainer']['max_epochs'] = 40"
      ],
      "metadata": {
        "id": "p8dcPsfzgNAV"
      },
      "execution_count": null,
      "outputs": []
    },
    {
      "cell_type": "markdown",
      "metadata": {
        "id": "dJDKJEkyymlH"
      },
      "source": [
        "### ⚡ Training & Evaluation with PyTorch Lightning\n",
        "\n",
        "This block sets up and runs the training and testing pipeline using **PyTorch Lightning’s `Trainer`**, which abstracts away much of the boilerplate in deep learning workflows.\n",
        "\n",
        "- **Modular Setup**:\n",
        "  - `datamodule`: Handles loading, normalization, and batching of climate data.\n",
        "  - `model`: A convolutional neural network that maps climate forcings to predicted outputs.\n",
        "  - `lightning_module`: Wraps the model with training/validation/test logic and metric evaluation.\n",
        "\n",
        "- **Trainer Flexibility**:\n",
        "  The `Trainer` accepts a wide range of configuration options from `config[\"trainer\"]`, including:\n",
        "  - Number of epochs\n",
        "  - Precision (e.g., 16-bit or 32-bit)\n",
        "  - Device configuration (CPU, GPU, or TPU)\n",
        "  - Determinism, logging, callbacks, and more"
      ]
    },
    {
      "cell_type": "code",
      "execution_count": null,
      "metadata": {
        "id": "CiBBql4KymlH",
        "colab": {
          "base_uri": "https://localhost:8080/",
          "height": 711,
          "referenced_widgets": [
            "3817774035dd4d459c8c8b32df341525",
            "fce82dd92f7b43d6abfc9a21e7586dce",
            "e89a13c6dbd54d2eace32eb9a069a7aa",
            "a191a95abf584b999c32abf2186a3235",
            "923626a0bd504ddcadf33b5849eff56f",
            "8a15638a03f541f898cfa1e872d43ec6",
            "688a2cd060094a7ba8a06b19f1797e64",
            "694e345956bc4dea81baf664985d2855",
            "acc75aa2e2084efeb0ec16c2ae18f10b",
            "282ecad2dcc04c26825d93bd0f044c3b",
            "47942f65fe3748be93f6dbe8a88ce888"
          ]
        },
        "outputId": "551f6fbf-bfd9-4a1f-9912-606bc6d1fc73"
      },
      "outputs": [
        {
          "metadata": {
            "tags": null
          },
          "name": "stderr",
          "output_type": "stream",
          "text": [
            "INFO: Using default `ModelCheckpoint`. Consider installing `litmodels` package to enable `LitModelCheckpoint` for automatic upload to the Lightning model registry.\n",
            "INFO:lightning.pytorch.utilities.rank_zero:Using default `ModelCheckpoint`. Consider installing `litmodels` package to enable `LitModelCheckpoint` for automatic upload to the Lightning model registry.\n",
            "INFO: GPU available: False, used: False\n",
            "INFO:lightning.pytorch.utilities.rank_zero:GPU available: False, used: False\n",
            "INFO: TPU available: False, using: 0 TPU cores\n",
            "INFO:lightning.pytorch.utilities.rank_zero:TPU available: False, using: 0 TPU cores\n",
            "INFO: HPU available: False, using: 0 HPUs\n",
            "INFO:lightning.pytorch.utilities.rank_zero:HPU available: False, using: 0 HPUs\n"
          ]
        },
        {
          "metadata": {
            "tags": null
          },
          "name": "stdout",
          "output_type": "stream",
          "text": [
            "Creating dataset with 2703 samples...\n",
            "Creating dataset with 360 samples...\n",
            "Creating dataset with 360 samples...\n"
          ]
        },
        {
          "metadata": {
            "tags": null
          },
          "name": "stderr",
          "output_type": "stream",
          "text": [
            "INFO: \n",
            "  | Name      | Type      | Params | Mode \n",
            "------------------------------------------------\n",
            "0 | model     | SimpleCNN | 10.7 M | train\n",
            "1 | criterion | MSELoss   | 0      | train\n",
            "------------------------------------------------\n",
            "10.7 M    Trainable params\n",
            "0         Non-trainable params\n",
            "10.7 M    Total params\n",
            "42.923    Total estimated model params size (MB)\n",
            "47        Modules in train mode\n",
            "0         Modules in eval mode\n",
            "INFO:lightning.pytorch.callbacks.model_summary:\n",
            "  | Name      | Type      | Params | Mode \n",
            "------------------------------------------------\n",
            "0 | model     | SimpleCNN | 10.7 M | train\n",
            "1 | criterion | MSELoss   | 0      | train\n",
            "------------------------------------------------\n",
            "10.7 M    Trainable params\n",
            "0         Non-trainable params\n",
            "10.7 M    Total params\n",
            "42.923    Total estimated model params size (MB)\n",
            "47        Modules in train mode\n",
            "0         Modules in eval mode\n",
            "/usr/local/lib/python3.11/dist-packages/torch/utils/data/dataloader.py:624: UserWarning: This DataLoader will create 4 worker processes in total. Our suggested max number of worker in current system is 2, which is smaller than what this DataLoader is going to create. Please be aware that excessive worker creation might get DataLoader running slow or even freeze, lower the worker number to avoid potential slowness/freeze if necessary.\n",
            "  warnings.warn(\n"
          ]
        },
        {
          "data": {
            "application/vnd.jupyter.widget-view+json": {
              "model_id": "3817774035dd4d459c8c8b32df341525",
              "version_major": 2,
              "version_minor": 0
            },
            "text/plain": [
              "Training: |          | 0/? [00:00<?, ?it/s]"
            ]
          },
          "metadata": {},
          "output_type": "display_data"
        }
      ],
      "source": [
        "datamodule = ClimateDataModule(**config[\"data\"])\n",
        "model = SimpleCNN(\n",
        "    n_input_channels=len(config[\"data\"][\"input_vars\"]),\n",
        "    n_output_channels=len(config[\"data\"][\"output_vars\"]),\n",
        "    **{k: v for k, v in config[\"model\"].items() if k != \"type\"}\n",
        ")\n",
        "lightning_module = ClimateEmulationModule(model, learning_rate=config[\"training\"][\"lr\"])\n",
        "\n",
        "trainer = pl.Trainer(default_root_dir=\"checkpoints/\", **config[\"trainer\"], log_every_n_steps=5)\n",
        "trainer.fit(lightning_module, datamodule=datamodule)   # Training"
      ]
    },
    {
      "cell_type": "markdown",
      "metadata": {
        "id": "hZXZyh7IymlH"
      },
      "source": [
        "# Test model\n",
        "\n",
        "**IMPORTANT:** Please note that the test metrics will be bad because the test targets have been corrupted on the public Kaggle dataset.\n",
        "The purpose of testing below is to generate the Kaggle submission file based on your model's predictions, which you can submit to the competition."
      ]
    },
    {
      "cell_type": "code",
      "execution_count": null,
      "metadata": {
        "id": "BZaRvHnXymlH"
      },
      "outputs": [],
      "source": [
        "trainer.test(lightning_module, datamodule=datamodule)"
      ]
    },
    {
      "cell_type": "markdown",
      "metadata": {
        "id": "DIforlqsymlH"
      },
      "source": [
        "### Plotting Utils\n"
      ]
    },
    {
      "cell_type": "code",
      "execution_count": null,
      "metadata": {
        "id": "B9gGnqbPymlH"
      },
      "outputs": [],
      "source": [
        "def plot_comparison(true_xr, pred_xr, title, cmap='viridis', diff_cmap='RdBu_r', metric=None):\n",
        "    fig, axs = plt.subplots(1, 3, figsize=(18, 6))\n",
        "\n",
        "    vmin = min(true_xr.min().item(), pred_xr.min().item())\n",
        "    vmax = max(true_xr.max().item(), pred_xr.max().item())\n",
        "\n",
        "    # Ground truth\n",
        "    true_xr.plot(ax=axs[0], cmap=cmap, vmin=vmin, vmax=vmax, add_colorbar=True)\n",
        "    axs[0].set_title(f\"{title} (Ground Truth)\")\n",
        "\n",
        "    # Prediction\n",
        "    pred_xr.plot(ax=axs[1], cmap=cmap, vmin=vmin, vmax=vmax, add_colorbar=True)\n",
        "    axs[1].set_title(f\"{title} (Prediction)\")\n",
        "\n",
        "    # Difference\n",
        "    diff = pred_xr - true_xr\n",
        "    abs_max = np.max(np.abs(diff))\n",
        "    diff.plot(ax=axs[2], cmap=diff_cmap, vmin=-abs_max, vmax=abs_max, add_colorbar=True)\n",
        "    axs[2].set_title(f\"{title} (Difference) {f'- {metric:.4f}' if metric else ''}\")\n",
        "\n",
        "    plt.tight_layout()\n",
        "    plt.show()\n"
      ]
    },
    {
      "cell_type": "markdown",
      "metadata": {
        "id": "9J-Hv3gHymlI"
      },
      "source": [
        "### 🖼️ Visualizing Validation Predictions\n",
        "\n",
        "This cell loads saved validation predictions and compares them to the ground truth using spatial plots. These visualizations help you qualitatively assess your model's performance.\n",
        "\n",
        "For each output variable (`tas`, `pr`), we visualize:\n",
        "\n",
        "- **📈 Time-Mean Map**: The 10-year average spatial pattern for both prediction and ground truth. Helps identify long-term biases or spatial shifts.\n",
        "- **📊 Time-Stddev Map**: Shows the standard deviation across time for each grid cell — useful for assessing how well the model captures **temporal variability** at each location.\n",
        "- **🕓 Random Timestep Sample**: Visual comparison of prediction vs ground truth for a single month. Useful for spotting fine-grained anomalies or errors in specific months.\n",
        "\n",
        "> These plots provide intuition beyond metrics and are useful for debugging spatial or temporal model failures.\n"
      ]
    },
    {
      "cell_type": "code",
      "execution_count": null,
      "metadata": {
        "id": "kepxYRoTymlI"
      },
      "outputs": [],
      "source": [
        "# Load validation predictions\n",
        "# make sure to have run the validation loop at least once\n",
        "val_preds = np.load(\"val_preds.npy\")\n",
        "val_trues = np.load(\"val_trues.npy\")\n",
        "\n",
        "lat, lon = datamodule.get_coords()\n",
        "output_vars = datamodule.output_vars\n",
        "time = np.arange(val_preds.shape[0])\n",
        "\n",
        "for i, var in enumerate(output_vars):\n",
        "    pred_xr = xr.DataArray(val_preds[:, i], dims=[\"time\", \"y\", \"x\"], coords={\"time\": time, \"y\": lat, \"x\": lon})\n",
        "    true_xr = xr.DataArray(val_trues[:, i], dims=[\"time\", \"y\", \"x\"], coords={\"time\": time, \"y\": lat, \"x\": lon})\n",
        "\n",
        "    # --- Time Mean ---\n",
        "    plot_comparison(true_xr.mean(\"time\"), pred_xr.mean(\"time\"), f\"{var} Val Time-Mean\")\n",
        "\n",
        "    # --- Time Stddev ---\n",
        "    plot_comparison(true_xr.std(\"time\"), pred_xr.std(\"time\"), f\"{var} Val Time-Stddev\", cmap=\"plasma\")\n",
        "\n",
        "    # --- Random timestep ---\n",
        "    t_idx = np.random.randint(0, len(time))\n",
        "    plot_comparison(true_xr.isel(time=t_idx), pred_xr.isel(time=t_idx), f\"{var} Val Sample Timestep {t_idx}\")\n"
      ]
    },
    {
      "cell_type": "markdown",
      "metadata": {
        "id": "CgvzS3wRymlI"
      },
      "source": [
        "## 🧪 Final Notes\n",
        "\n",
        "This notebook is meant to serve as a **baseline template** — a starting point to help you get up and running quickly with the climate emulation challenge.\n",
        "\n",
        "You are **not** required to stick to this exact setup. In fact, we **encourage** you to:\n",
        "\n",
        "- 🔁 Build on top of the provided `DataModule`.\n",
        "- 🧠 Use your own model architectures or training pipelines that you’re more comfortable with\n",
        "- ⚗️ Experiment with ideas  \n",
        "- 🥇 Compete creatively to climb the Kaggle leaderboard  \n",
        "- 🙌 Most importantly: **have fun** and **learn as much as you can** along the way\n",
        "\n",
        "This challenge simulates a real-world scientific problem, and there’s no single \"correct\" approach — so be curious, experiment boldly, and make it your own!\n"
      ]
    },
    {
      "cell_type": "code",
      "execution_count": null,
      "metadata": {
        "id": "5QDcka6iymlI"
      },
      "outputs": [],
      "source": []
    }
  ],
  "metadata": {
    "accelerator": "GPU",
    "colab": {
      "gpuType": "T4",
      "provenance": []
    },
    "kaggle": {
      "accelerator": "none",
      "dataSources": [],
      "dockerImageVersionId": 30918,
      "isGpuEnabled": false,
      "isInternetEnabled": true,
      "language": "python",
      "sourceType": "notebook"
    },
    "kernelspec": {
      "display_name": "Python 3",
      "name": "python3"
    },
    "language_info": {
      "codemirror_mode": {
        "name": "ipython",
        "version": 3
      },
      "file_extension": ".py",
      "mimetype": "text/x-python",
      "name": "python",
      "nbconvert_exporter": "python",
      "pygments_lexer": "ipython3",
      "version": "3.10.12"
    },
    "widgets": {
      "application/vnd.jupyter.widget-state+json": {
        "3817774035dd4d459c8c8b32df341525": {
          "model_module": "@jupyter-widgets/controls",
          "model_name": "HBoxModel",
          "model_module_version": "1.5.0",
          "state": {
            "_dom_classes": [],
            "_model_module": "@jupyter-widgets/controls",
            "_model_module_version": "1.5.0",
            "_model_name": "HBoxModel",
            "_view_count": null,
            "_view_module": "@jupyter-widgets/controls",
            "_view_module_version": "1.5.0",
            "_view_name": "HBoxView",
            "box_style": "",
            "children": [
              "IPY_MODEL_fce82dd92f7b43d6abfc9a21e7586dce",
              "IPY_MODEL_e89a13c6dbd54d2eace32eb9a069a7aa",
              "IPY_MODEL_a191a95abf584b999c32abf2186a3235"
            ],
            "layout": "IPY_MODEL_923626a0bd504ddcadf33b5849eff56f"
          }
        },
        "fce82dd92f7b43d6abfc9a21e7586dce": {
          "model_module": "@jupyter-widgets/controls",
          "model_name": "HTMLModel",
          "model_module_version": "1.5.0",
          "state": {
            "_dom_classes": [],
            "_model_module": "@jupyter-widgets/controls",
            "_model_module_version": "1.5.0",
            "_model_name": "HTMLModel",
            "_view_count": null,
            "_view_module": "@jupyter-widgets/controls",
            "_view_module_version": "1.5.0",
            "_view_name": "HTMLView",
            "description": "",
            "description_tooltip": null,
            "layout": "IPY_MODEL_8a15638a03f541f898cfa1e872d43ec6",
            "placeholder": "​",
            "style": "IPY_MODEL_688a2cd060094a7ba8a06b19f1797e64",
            "value": "Epoch 0:  19%"
          }
        },
        "e89a13c6dbd54d2eace32eb9a069a7aa": {
          "model_module": "@jupyter-widgets/controls",
          "model_name": "FloatProgressModel",
          "model_module_version": "1.5.0",
          "state": {
            "_dom_classes": [],
            "_model_module": "@jupyter-widgets/controls",
            "_model_module_version": "1.5.0",
            "_model_name": "FloatProgressModel",
            "_view_count": null,
            "_view_module": "@jupyter-widgets/controls",
            "_view_module_version": "1.5.0",
            "_view_name": "ProgressView",
            "bar_style": "",
            "description": "",
            "description_tooltip": null,
            "layout": "IPY_MODEL_694e345956bc4dea81baf664985d2855",
            "max": 43,
            "min": 0,
            "orientation": "horizontal",
            "style": "IPY_MODEL_acc75aa2e2084efeb0ec16c2ae18f10b",
            "value": 8
          }
        },
        "a191a95abf584b999c32abf2186a3235": {
          "model_module": "@jupyter-widgets/controls",
          "model_name": "HTMLModel",
          "model_module_version": "1.5.0",
          "state": {
            "_dom_classes": [],
            "_model_module": "@jupyter-widgets/controls",
            "_model_module_version": "1.5.0",
            "_model_name": "HTMLModel",
            "_view_count": null,
            "_view_module": "@jupyter-widgets/controls",
            "_view_module_version": "1.5.0",
            "_view_name": "HTMLView",
            "description": "",
            "description_tooltip": null,
            "layout": "IPY_MODEL_282ecad2dcc04c26825d93bd0f044c3b",
            "placeholder": "​",
            "style": "IPY_MODEL_47942f65fe3748be93f6dbe8a88ce888",
            "value": " 8/43 [29:17&lt;2:08:08,  0.00it/s, v_num=0]"
          }
        },
        "923626a0bd504ddcadf33b5849eff56f": {
          "model_module": "@jupyter-widgets/base",
          "model_name": "LayoutModel",
          "model_module_version": "1.2.0",
          "state": {
            "_model_module": "@jupyter-widgets/base",
            "_model_module_version": "1.2.0",
            "_model_name": "LayoutModel",
            "_view_count": null,
            "_view_module": "@jupyter-widgets/base",
            "_view_module_version": "1.2.0",
            "_view_name": "LayoutView",
            "align_content": null,
            "align_items": null,
            "align_self": null,
            "border": null,
            "bottom": null,
            "display": "inline-flex",
            "flex": null,
            "flex_flow": "row wrap",
            "grid_area": null,
            "grid_auto_columns": null,
            "grid_auto_flow": null,
            "grid_auto_rows": null,
            "grid_column": null,
            "grid_gap": null,
            "grid_row": null,
            "grid_template_areas": null,
            "grid_template_columns": null,
            "grid_template_rows": null,
            "height": null,
            "justify_content": null,
            "justify_items": null,
            "left": null,
            "margin": null,
            "max_height": null,
            "max_width": null,
            "min_height": null,
            "min_width": null,
            "object_fit": null,
            "object_position": null,
            "order": null,
            "overflow": null,
            "overflow_x": null,
            "overflow_y": null,
            "padding": null,
            "right": null,
            "top": null,
            "visibility": null,
            "width": "100%"
          }
        },
        "8a15638a03f541f898cfa1e872d43ec6": {
          "model_module": "@jupyter-widgets/base",
          "model_name": "LayoutModel",
          "model_module_version": "1.2.0",
          "state": {
            "_model_module": "@jupyter-widgets/base",
            "_model_module_version": "1.2.0",
            "_model_name": "LayoutModel",
            "_view_count": null,
            "_view_module": "@jupyter-widgets/base",
            "_view_module_version": "1.2.0",
            "_view_name": "LayoutView",
            "align_content": null,
            "align_items": null,
            "align_self": null,
            "border": null,
            "bottom": null,
            "display": null,
            "flex": null,
            "flex_flow": null,
            "grid_area": null,
            "grid_auto_columns": null,
            "grid_auto_flow": null,
            "grid_auto_rows": null,
            "grid_column": null,
            "grid_gap": null,
            "grid_row": null,
            "grid_template_areas": null,
            "grid_template_columns": null,
            "grid_template_rows": null,
            "height": null,
            "justify_content": null,
            "justify_items": null,
            "left": null,
            "margin": null,
            "max_height": null,
            "max_width": null,
            "min_height": null,
            "min_width": null,
            "object_fit": null,
            "object_position": null,
            "order": null,
            "overflow": null,
            "overflow_x": null,
            "overflow_y": null,
            "padding": null,
            "right": null,
            "top": null,
            "visibility": null,
            "width": null
          }
        },
        "688a2cd060094a7ba8a06b19f1797e64": {
          "model_module": "@jupyter-widgets/controls",
          "model_name": "DescriptionStyleModel",
          "model_module_version": "1.5.0",
          "state": {
            "_model_module": "@jupyter-widgets/controls",
            "_model_module_version": "1.5.0",
            "_model_name": "DescriptionStyleModel",
            "_view_count": null,
            "_view_module": "@jupyter-widgets/base",
            "_view_module_version": "1.2.0",
            "_view_name": "StyleView",
            "description_width": ""
          }
        },
        "694e345956bc4dea81baf664985d2855": {
          "model_module": "@jupyter-widgets/base",
          "model_name": "LayoutModel",
          "model_module_version": "1.2.0",
          "state": {
            "_model_module": "@jupyter-widgets/base",
            "_model_module_version": "1.2.0",
            "_model_name": "LayoutModel",
            "_view_count": null,
            "_view_module": "@jupyter-widgets/base",
            "_view_module_version": "1.2.0",
            "_view_name": "LayoutView",
            "align_content": null,
            "align_items": null,
            "align_self": null,
            "border": null,
            "bottom": null,
            "display": null,
            "flex": "2",
            "flex_flow": null,
            "grid_area": null,
            "grid_auto_columns": null,
            "grid_auto_flow": null,
            "grid_auto_rows": null,
            "grid_column": null,
            "grid_gap": null,
            "grid_row": null,
            "grid_template_areas": null,
            "grid_template_columns": null,
            "grid_template_rows": null,
            "height": null,
            "justify_content": null,
            "justify_items": null,
            "left": null,
            "margin": null,
            "max_height": null,
            "max_width": null,
            "min_height": null,
            "min_width": null,
            "object_fit": null,
            "object_position": null,
            "order": null,
            "overflow": null,
            "overflow_x": null,
            "overflow_y": null,
            "padding": null,
            "right": null,
            "top": null,
            "visibility": null,
            "width": null
          }
        },
        "acc75aa2e2084efeb0ec16c2ae18f10b": {
          "model_module": "@jupyter-widgets/controls",
          "model_name": "ProgressStyleModel",
          "model_module_version": "1.5.0",
          "state": {
            "_model_module": "@jupyter-widgets/controls",
            "_model_module_version": "1.5.0",
            "_model_name": "ProgressStyleModel",
            "_view_count": null,
            "_view_module": "@jupyter-widgets/base",
            "_view_module_version": "1.2.0",
            "_view_name": "StyleView",
            "bar_color": null,
            "description_width": ""
          }
        },
        "282ecad2dcc04c26825d93bd0f044c3b": {
          "model_module": "@jupyter-widgets/base",
          "model_name": "LayoutModel",
          "model_module_version": "1.2.0",
          "state": {
            "_model_module": "@jupyter-widgets/base",
            "_model_module_version": "1.2.0",
            "_model_name": "LayoutModel",
            "_view_count": null,
            "_view_module": "@jupyter-widgets/base",
            "_view_module_version": "1.2.0",
            "_view_name": "LayoutView",
            "align_content": null,
            "align_items": null,
            "align_self": null,
            "border": null,
            "bottom": null,
            "display": null,
            "flex": null,
            "flex_flow": null,
            "grid_area": null,
            "grid_auto_columns": null,
            "grid_auto_flow": null,
            "grid_auto_rows": null,
            "grid_column": null,
            "grid_gap": null,
            "grid_row": null,
            "grid_template_areas": null,
            "grid_template_columns": null,
            "grid_template_rows": null,
            "height": null,
            "justify_content": null,
            "justify_items": null,
            "left": null,
            "margin": null,
            "max_height": null,
            "max_width": null,
            "min_height": null,
            "min_width": null,
            "object_fit": null,
            "object_position": null,
            "order": null,
            "overflow": null,
            "overflow_x": null,
            "overflow_y": null,
            "padding": null,
            "right": null,
            "top": null,
            "visibility": null,
            "width": null
          }
        },
        "47942f65fe3748be93f6dbe8a88ce888": {
          "model_module": "@jupyter-widgets/controls",
          "model_name": "DescriptionStyleModel",
          "model_module_version": "1.5.0",
          "state": {
            "_model_module": "@jupyter-widgets/controls",
            "_model_module_version": "1.5.0",
            "_model_name": "DescriptionStyleModel",
            "_view_count": null,
            "_view_module": "@jupyter-widgets/base",
            "_view_module_version": "1.2.0",
            "_view_name": "StyleView",
            "description_width": ""
          }
        }
      }
    }
  },
  "nbformat": 4,
  "nbformat_minor": 0
}